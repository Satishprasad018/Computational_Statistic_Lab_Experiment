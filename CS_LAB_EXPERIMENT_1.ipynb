{
 "cells": [
  {
   "cell_type": "code",
   "execution_count": 10,
   "id": "ff1694e3",
   "metadata": {},
   "outputs": [],
   "source": [
    "import numpy as np\n",
    "\n",
    "x = [75,62,80,56,35,47,68,90,70,45]\n",
    "y= [64,60,76,65,45,50,60,75,25,50]"
   ]
  },
  {
   "cell_type": "code",
   "execution_count": 11,
   "id": "93d1a43a",
   "metadata": {},
   "outputs": [
    {
     "name": "stdout",
     "output_type": "stream",
     "text": [
      "Statistics for x\n",
      "\n",
      "Average 62.8\n",
      "\n",
      "Mean:  62.8\n",
      "\n",
      "std(1):  16.277591959500644\n",
      "std(2):  16.277591959500644\n",
      "\n",
      "variance(1):  264.96000000000004\n",
      "variance(2):  264.96000000000004\n"
     ]
    }
   ],
   "source": [
    "x = [75,62,80,56,35,47,68,90,70,45]\n",
    "\n",
    "print(\"Statistics for x\")\n",
    "\n",
    "r1 = np.average(x)\n",
    "print(\"\\nAverage\",r1)\n",
    "\n",
    "r2 = np.mean(x)\n",
    "print(\"\\nMean: \", r2)\n",
    "\n",
    "r3_1 = np.std(x)\n",
    "r3_2 = np.sqrt(np.mean((x - np.mean(x)) ** 2 ))\n",
    "print(\"\\nstd(1): \", r3_1)\n",
    "print(\"std(2): \", r3_2)\n",
    "\n",
    "r4_1= np.var(x)\n",
    "r4_2 = np.mean((x - np.mean(x)) ** 2 )\n",
    "print(\"\\nvariance(1): \", r4_1)\n",
    "print(\"variance(2): \", r4_2)"
   ]
  },
  {
   "cell_type": "code",
   "execution_count": 14,
   "id": "17b73aeb",
   "metadata": {},
   "outputs": [
    {
     "name": "stdout",
     "output_type": "stream",
     "text": [
      "Statistics for y\n",
      "\n",
      "Average 5.714285714285714\n",
      "\n",
      "Mean:  5.714285714285714\n",
      "\n",
      "std(1):  3.640288543545979\n",
      "std(2):  3.640288543545979\n",
      "\n",
      "variance(1):  13.251700680272105\n",
      "variance(2):  13.251700680272105\n"
     ]
    }
   ],
   "source": [
    "y= [64,60,76,65,45,50,60,75,25,50]\n",
    "\n",
    "print(\"Statistics for y\")\n",
    "\n",
    "r1 = np.average(y)\n",
    "print(\"\\nAverage\",r1)\n",
    "\n",
    "r2 = np.mean(y)\n",
    "print(\"\\nMean: \", r2)\n",
    "\n",
    "r3_1 = np.std(y)\n",
    "r3_2 = np.sqrt(np.mean((y - np.mean(y)) ** 2 ))\n",
    "print(\"\\nstd(1): \", r3_1)\n",
    "print(\"std(2): \", r3_2)\n",
    "\n",
    "r4_1= np.var(y)\n",
    "r4_2 = np.mean((y - np.mean(y)) ** 2 )\n",
    "print(\"\\nvariance(1): \", r4_1)\n",
    "print(\"variance(2): \", r4_2)"
   ]
  },
  {
   "cell_type": "code",
   "execution_count": 12,
   "id": "8886aabc",
   "metadata": {},
   "outputs": [
    {
     "name": "stdout",
     "output_type": "stream",
     "text": [
      "Median is: 41.0\n"
     ]
    }
   ],
   "source": [
    "X = [75,62,80,56,35,47,68,90,70,45]\n",
    "n = len(X) \n",
    "X.sort() \n",
    "\n",
    "if n % 2 == 0: \n",
    "\tmedian1 = x[n//2] \n",
    "\tmedian2 = x[n//2 - 1] \n",
    "\tmedian = (median1 + median2)/2\n",
    "else: \n",
    "\tmedian = x[n//2] \n",
    "print(\"Median is: \" + str(median))"
   ]
  },
  {
   "cell_type": "code",
   "execution_count": 13,
   "id": "1a580fb9",
   "metadata": {},
   "outputs": [
    {
     "name": "stdout",
     "output_type": "stream",
     "text": [
      "\n",
      "Original array(X):\n",
      "[75, 62, 80, 56, 35, 47, 68, 90, 70, 45]\n",
      "\n",
      "Original array(Y):\n",
      "[64, 60, 76, 65, 45, 50, 60, 75, 25, 50]\n",
      "\n",
      "Covariance matrix of the said arrays:\n",
      " [[294.4        133.22222222]\n",
      " [133.22222222 231.33333333]]\n"
     ]
    }
   ],
   "source": [
    "print(\"\\nOriginal array(X):\")\n",
    "print(x)\n",
    "print(\"\\nOriginal array(Y):\")\n",
    "print(y)\n",
    "print(\"\\nCovariance matrix of the said arrays:\\n\",np.cov(x, y))\n"
   ]
  },
  {
   "cell_type": "code",
   "execution_count": 16,
   "id": "42a90f74",
   "metadata": {},
   "outputs": [
    {
     "ename": "SyntaxError",
     "evalue": "cannot assign to function call (750191103.py, line 3)",
     "output_type": "error",
     "traceback": [
      "\u001b[1;36m  File \u001b[1;32m\"C:\\Users\\satish prasad\\AppData\\Local\\Temp\\ipykernel_16596\\750191103.py\"\u001b[1;36m, line \u001b[1;32m3\u001b[0m\n\u001b[1;33m    np.cov(x, y) = ((sum (x - xb) * (y - yb) ) * (1/(n-1)))\u001b[0m\n\u001b[1;37m    ^\u001b[0m\n\u001b[1;31mSyntaxError\u001b[0m\u001b[1;31m:\u001b[0m cannot assign to function call\n"
     ]
    }
   ],
   "source": [
    "xb = np.mean(x)\n",
    "yb= np.mean(y)\n",
    "np.cov(x, y) = ((sum (x - xb) * (y - yb) ) * (1/(n-1)))"
   ]
  },
  {
   "cell_type": "code",
   "execution_count": null,
   "id": "7387cea7",
   "metadata": {},
   "outputs": [],
   "source": []
  }
 ],
 "metadata": {
  "kernelspec": {
   "display_name": "Python 3 (ipykernel)",
   "language": "python",
   "name": "python3"
  },
  "language_info": {
   "codemirror_mode": {
    "name": "ipython",
    "version": 3
   },
   "file_extension": ".py",
   "mimetype": "text/x-python",
   "name": "python",
   "nbconvert_exporter": "python",
   "pygments_lexer": "ipython3",
   "version": "3.9.13"
  }
 },
 "nbformat": 4,
 "nbformat_minor": 5
}
