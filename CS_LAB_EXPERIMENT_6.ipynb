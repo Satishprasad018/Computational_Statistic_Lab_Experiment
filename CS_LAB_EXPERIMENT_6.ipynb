{
 "cells": [
  {
   "cell_type": "code",
   "execution_count": 14,
   "id": "80747694",
   "metadata": {},
   "outputs": [],
   "source": [
    "import pandas as pd\n",
    "from factor_analyzer import FactorAnalyzer\n",
    "import matplotlib.pyplot as plt"
   ]
  },
  {
   "cell_type": "code",
   "execution_count": 15,
   "id": "19af8451",
   "metadata": {},
   "outputs": [
    {
     "data": {
      "text/plain": [
       "Index(['ID', 'ProdQual', 'Ecom', 'TechSup', 'CompRes', 'Advertising',\n",
       "       'ProdLine', 'SalesFImage', 'ComPricing', 'WartyClaim', 'OrdBilling',\n",
       "       'DelSpeed', 'Satisfaction'],\n",
       "      dtype='object')"
      ]
     },
     "execution_count": 15,
     "metadata": {},
     "output_type": "execute_result"
    }
   ],
   "source": [
    "df= pd.read_csv('Factor-Hair-Revised.csv')\n",
    "df.columns"
   ]
  },
  {
   "cell_type": "code",
   "execution_count": 16,
   "id": "9c8a3ae4",
   "metadata": {},
   "outputs": [
    {
     "data": {
      "text/html": [
       "<div>\n",
       "<style scoped>\n",
       "    .dataframe tbody tr th:only-of-type {\n",
       "        vertical-align: middle;\n",
       "    }\n",
       "\n",
       "    .dataframe tbody tr th {\n",
       "        vertical-align: top;\n",
       "    }\n",
       "\n",
       "    .dataframe thead th {\n",
       "        text-align: right;\n",
       "    }\n",
       "</style>\n",
       "<table border=\"1\" class=\"dataframe\">\n",
       "  <thead>\n",
       "    <tr style=\"text-align: right;\">\n",
       "      <th></th>\n",
       "      <th>ID</th>\n",
       "      <th>ProdQual</th>\n",
       "      <th>Ecom</th>\n",
       "      <th>TechSup</th>\n",
       "      <th>CompRes</th>\n",
       "      <th>Advertising</th>\n",
       "      <th>ProdLine</th>\n",
       "      <th>SalesFImage</th>\n",
       "      <th>ComPricing</th>\n",
       "      <th>WartyClaim</th>\n",
       "      <th>OrdBilling</th>\n",
       "      <th>DelSpeed</th>\n",
       "      <th>Satisfaction</th>\n",
       "    </tr>\n",
       "  </thead>\n",
       "  <tbody>\n",
       "    <tr>\n",
       "      <th>0</th>\n",
       "      <td>1</td>\n",
       "      <td>8.5</td>\n",
       "      <td>3.9</td>\n",
       "      <td>2.5</td>\n",
       "      <td>5.9</td>\n",
       "      <td>4.8</td>\n",
       "      <td>4.9</td>\n",
       "      <td>6.0</td>\n",
       "      <td>6.8</td>\n",
       "      <td>4.7</td>\n",
       "      <td>5.0</td>\n",
       "      <td>3.7</td>\n",
       "      <td>8.2</td>\n",
       "    </tr>\n",
       "    <tr>\n",
       "      <th>1</th>\n",
       "      <td>2</td>\n",
       "      <td>8.2</td>\n",
       "      <td>2.7</td>\n",
       "      <td>5.1</td>\n",
       "      <td>7.2</td>\n",
       "      <td>3.4</td>\n",
       "      <td>7.9</td>\n",
       "      <td>3.1</td>\n",
       "      <td>5.3</td>\n",
       "      <td>5.5</td>\n",
       "      <td>3.9</td>\n",
       "      <td>4.9</td>\n",
       "      <td>5.7</td>\n",
       "    </tr>\n",
       "    <tr>\n",
       "      <th>2</th>\n",
       "      <td>3</td>\n",
       "      <td>9.2</td>\n",
       "      <td>3.4</td>\n",
       "      <td>5.6</td>\n",
       "      <td>5.6</td>\n",
       "      <td>5.4</td>\n",
       "      <td>7.4</td>\n",
       "      <td>5.8</td>\n",
       "      <td>4.5</td>\n",
       "      <td>6.2</td>\n",
       "      <td>5.4</td>\n",
       "      <td>4.5</td>\n",
       "      <td>8.9</td>\n",
       "    </tr>\n",
       "    <tr>\n",
       "      <th>3</th>\n",
       "      <td>4</td>\n",
       "      <td>6.4</td>\n",
       "      <td>3.3</td>\n",
       "      <td>7.0</td>\n",
       "      <td>3.7</td>\n",
       "      <td>4.7</td>\n",
       "      <td>4.7</td>\n",
       "      <td>4.5</td>\n",
       "      <td>8.8</td>\n",
       "      <td>7.0</td>\n",
       "      <td>4.3</td>\n",
       "      <td>3.0</td>\n",
       "      <td>4.8</td>\n",
       "    </tr>\n",
       "    <tr>\n",
       "      <th>4</th>\n",
       "      <td>5</td>\n",
       "      <td>9.0</td>\n",
       "      <td>3.4</td>\n",
       "      <td>5.2</td>\n",
       "      <td>4.6</td>\n",
       "      <td>2.2</td>\n",
       "      <td>6.0</td>\n",
       "      <td>4.5</td>\n",
       "      <td>6.8</td>\n",
       "      <td>6.1</td>\n",
       "      <td>4.5</td>\n",
       "      <td>3.5</td>\n",
       "      <td>7.1</td>\n",
       "    </tr>\n",
       "  </tbody>\n",
       "</table>\n",
       "</div>"
      ],
      "text/plain": [
       "   ID  ProdQual  Ecom  TechSup  CompRes  Advertising  ProdLine  SalesFImage  \\\n",
       "0   1       8.5   3.9      2.5      5.9          4.8       4.9          6.0   \n",
       "1   2       8.2   2.7      5.1      7.2          3.4       7.9          3.1   \n",
       "2   3       9.2   3.4      5.6      5.6          5.4       7.4          5.8   \n",
       "3   4       6.4   3.3      7.0      3.7          4.7       4.7          4.5   \n",
       "4   5       9.0   3.4      5.2      4.6          2.2       6.0          4.5   \n",
       "\n",
       "   ComPricing  WartyClaim  OrdBilling  DelSpeed  Satisfaction  \n",
       "0         6.8         4.7         5.0       3.7           8.2  \n",
       "1         5.3         5.5         3.9       4.9           5.7  \n",
       "2         4.5         6.2         5.4       4.5           8.9  \n",
       "3         8.8         7.0         4.3       3.0           4.8  \n",
       "4         6.8         6.1         4.5       3.5           7.1  "
      ]
     },
     "execution_count": 16,
     "metadata": {},
     "output_type": "execute_result"
    }
   ],
   "source": [
    "df.head()"
   ]
  },
  {
   "cell_type": "code",
   "execution_count": 17,
   "id": "ea484f5f",
   "metadata": {},
   "outputs": [],
   "source": [
    "df.drop(['ID','ProdQual','Ecom','Advertising'],axis= 1,inplace=True)"
   ]
  },
  {
   "cell_type": "code",
   "execution_count": 18,
   "id": "075334c2",
   "metadata": {},
   "outputs": [
    {
     "data": {
      "text/plain": [
       "FactorAnalyzer(n_factors=4, rotation='varimax', rotation_kwargs={})"
      ]
     },
     "execution_count": 18,
     "metadata": {},
     "output_type": "execute_result"
    }
   ],
   "source": [
    "fa = FactorAnalyzer(n_factors =4,rotation= 'varimax')\n",
    "fa.fit(df)"
   ]
  },
  {
   "cell_type": "code",
   "execution_count": 19,
   "id": "1c150377",
   "metadata": {},
   "outputs": [
    {
     "data": {
      "text/plain": [
       "(array([2.83958285, 1.65271544, 1.23040954, 1.21967246]),\n",
       " array([0.31550921, 0.18363505, 0.13671217, 0.13551916]),\n",
       " array([0.31550921, 0.49914425, 0.63585643, 0.77137559]))"
      ]
     },
     "execution_count": 19,
     "metadata": {},
     "output_type": "execute_result"
    }
   ],
   "source": [
    "fa.get_factor_variance()"
   ]
  },
  {
   "cell_type": "code",
   "execution_count": 20,
   "id": "5b486b23",
   "metadata": {},
   "outputs": [
    {
     "data": {
      "text/plain": [
       "array([[-1.17224825e-01,  8.66510630e-01, -5.17745944e-02],\n",
       "       [ 9.21574086e-01, -8.24810330e-02,  1.40911637e-04],\n",
       "       [ 6.32699866e-01,  3.31672871e-02, -4.99169564e-01],\n",
       "       [ 3.33355734e-01,  1.57267219e-01,  6.44364528e-01],\n",
       "       [-1.15304821e-01, -1.56360468e-01,  5.78952973e-01],\n",
       "       [-3.21634085e-02,  9.40703123e-01,  1.86077676e-02],\n",
       "       [ 7.77041509e-01, -2.28584322e-02,  3.40106767e-02],\n",
       "       [ 9.52332347e-01, -1.39437602e-01,  2.71705677e-02],\n",
       "       [ 7.13710918e-01,  7.72990955e-02,  1.21358453e-01]])"
      ]
     },
     "execution_count": 20,
     "metadata": {},
     "output_type": "execute_result"
    }
   ],
   "source": [
    "ev, v= fa.get_eigenvalues()\n",
    "fa = FactorAnalyzer()\n",
    "fa.fit(df)\n",
    "fa.loadings_"
   ]
  },
  {
   "cell_type": "code",
   "execution_count": 21,
   "id": "50c44af4",
   "metadata": {},
   "outputs": [
    {
     "data": {
      "text/plain": [
       "array([3.78997577, 1.89048344, 1.33793488, 0.79515302, 0.41611699,\n",
       "       0.26999988, 0.2480525 , 0.14585957, 0.10642395])"
      ]
     },
     "execution_count": 21,
     "metadata": {},
     "output_type": "execute_result"
    }
   ],
   "source": [
    "ev, v = fa.get_eigenvalues()\n",
    "ev"
   ]
  },
  {
   "cell_type": "code",
   "execution_count": 22,
   "id": "b832e41d",
   "metadata": {},
   "outputs": [
    {
     "data": {
      "text/html": [
       "<div>\n",
       "<style scoped>\n",
       "    .dataframe tbody tr th:only-of-type {\n",
       "        vertical-align: middle;\n",
       "    }\n",
       "\n",
       "    .dataframe tbody tr th {\n",
       "        vertical-align: top;\n",
       "    }\n",
       "\n",
       "    .dataframe thead th {\n",
       "        text-align: right;\n",
       "    }\n",
       "</style>\n",
       "<table border=\"1\" class=\"dataframe\">\n",
       "  <thead>\n",
       "    <tr style=\"text-align: right;\">\n",
       "      <th></th>\n",
       "      <th>TechSup</th>\n",
       "      <th>CompRes</th>\n",
       "      <th>ProdLine</th>\n",
       "      <th>SalesFImage</th>\n",
       "      <th>ComPricing</th>\n",
       "      <th>WartyClaim</th>\n",
       "      <th>OrdBilling</th>\n",
       "      <th>DelSpeed</th>\n",
       "      <th>Satisfaction</th>\n",
       "    </tr>\n",
       "  </thead>\n",
       "  <tbody>\n",
       "    <tr>\n",
       "      <th>count</th>\n",
       "      <td>100.000000</td>\n",
       "      <td>100.000000</td>\n",
       "      <td>100.000000</td>\n",
       "      <td>100.00000</td>\n",
       "      <td>100.000000</td>\n",
       "      <td>100.000000</td>\n",
       "      <td>100.00000</td>\n",
       "      <td>100.000000</td>\n",
       "      <td>100.000000</td>\n",
       "    </tr>\n",
       "    <tr>\n",
       "      <th>mean</th>\n",
       "      <td>5.365000</td>\n",
       "      <td>5.442000</td>\n",
       "      <td>5.805000</td>\n",
       "      <td>5.12300</td>\n",
       "      <td>6.974000</td>\n",
       "      <td>6.043000</td>\n",
       "      <td>4.27800</td>\n",
       "      <td>3.886000</td>\n",
       "      <td>6.918000</td>\n",
       "    </tr>\n",
       "    <tr>\n",
       "      <th>std</th>\n",
       "      <td>1.530457</td>\n",
       "      <td>1.208403</td>\n",
       "      <td>1.315285</td>\n",
       "      <td>1.07232</td>\n",
       "      <td>1.545055</td>\n",
       "      <td>0.819738</td>\n",
       "      <td>0.92884</td>\n",
       "      <td>0.734437</td>\n",
       "      <td>1.191839</td>\n",
       "    </tr>\n",
       "    <tr>\n",
       "      <th>min</th>\n",
       "      <td>1.300000</td>\n",
       "      <td>2.600000</td>\n",
       "      <td>2.300000</td>\n",
       "      <td>2.90000</td>\n",
       "      <td>3.700000</td>\n",
       "      <td>4.100000</td>\n",
       "      <td>2.00000</td>\n",
       "      <td>1.600000</td>\n",
       "      <td>4.700000</td>\n",
       "    </tr>\n",
       "    <tr>\n",
       "      <th>25%</th>\n",
       "      <td>4.250000</td>\n",
       "      <td>4.600000</td>\n",
       "      <td>4.700000</td>\n",
       "      <td>4.50000</td>\n",
       "      <td>5.875000</td>\n",
       "      <td>5.400000</td>\n",
       "      <td>3.70000</td>\n",
       "      <td>3.400000</td>\n",
       "      <td>6.000000</td>\n",
       "    </tr>\n",
       "    <tr>\n",
       "      <th>50%</th>\n",
       "      <td>5.400000</td>\n",
       "      <td>5.450000</td>\n",
       "      <td>5.750000</td>\n",
       "      <td>4.90000</td>\n",
       "      <td>7.100000</td>\n",
       "      <td>6.100000</td>\n",
       "      <td>4.40000</td>\n",
       "      <td>3.900000</td>\n",
       "      <td>7.050000</td>\n",
       "    </tr>\n",
       "    <tr>\n",
       "      <th>75%</th>\n",
       "      <td>6.625000</td>\n",
       "      <td>6.325000</td>\n",
       "      <td>6.800000</td>\n",
       "      <td>5.80000</td>\n",
       "      <td>8.400000</td>\n",
       "      <td>6.600000</td>\n",
       "      <td>4.80000</td>\n",
       "      <td>4.425000</td>\n",
       "      <td>7.625000</td>\n",
       "    </tr>\n",
       "    <tr>\n",
       "      <th>max</th>\n",
       "      <td>8.500000</td>\n",
       "      <td>7.800000</td>\n",
       "      <td>8.400000</td>\n",
       "      <td>8.20000</td>\n",
       "      <td>9.900000</td>\n",
       "      <td>8.100000</td>\n",
       "      <td>6.70000</td>\n",
       "      <td>5.500000</td>\n",
       "      <td>9.900000</td>\n",
       "    </tr>\n",
       "  </tbody>\n",
       "</table>\n",
       "</div>"
      ],
      "text/plain": [
       "          TechSup     CompRes    ProdLine  SalesFImage  ComPricing  \\\n",
       "count  100.000000  100.000000  100.000000    100.00000  100.000000   \n",
       "mean     5.365000    5.442000    5.805000      5.12300    6.974000   \n",
       "std      1.530457    1.208403    1.315285      1.07232    1.545055   \n",
       "min      1.300000    2.600000    2.300000      2.90000    3.700000   \n",
       "25%      4.250000    4.600000    4.700000      4.50000    5.875000   \n",
       "50%      5.400000    5.450000    5.750000      4.90000    7.100000   \n",
       "75%      6.625000    6.325000    6.800000      5.80000    8.400000   \n",
       "max      8.500000    7.800000    8.400000      8.20000    9.900000   \n",
       "\n",
       "       WartyClaim  OrdBilling    DelSpeed  Satisfaction  \n",
       "count  100.000000   100.00000  100.000000    100.000000  \n",
       "mean     6.043000     4.27800    3.886000      6.918000  \n",
       "std      0.819738     0.92884    0.734437      1.191839  \n",
       "min      4.100000     2.00000    1.600000      4.700000  \n",
       "25%      5.400000     3.70000    3.400000      6.000000  \n",
       "50%      6.100000     4.40000    3.900000      7.050000  \n",
       "75%      6.600000     4.80000    4.425000      7.625000  \n",
       "max      8.100000     6.70000    5.500000      9.900000  "
      ]
     },
     "execution_count": 22,
     "metadata": {},
     "output_type": "execute_result"
    }
   ],
   "source": [
    "df.describe()"
   ]
  },
  {
   "cell_type": "code",
   "execution_count": 23,
   "id": "26006224",
   "metadata": {},
   "outputs": [
    {
     "data": {
      "text/plain": [
       "10"
      ]
     },
     "execution_count": 23,
     "metadata": {},
     "output_type": "execute_result"
    }
   ],
   "source": [
    "df.shape[1]+1"
   ]
  },
  {
   "cell_type": "code",
   "execution_count": 24,
   "id": "74ecd889",
   "metadata": {},
   "outputs": [
    {
     "data": {
      "image/png": "[encoded data removed]",
      "text/plain": [
       "<Figure size 640x480 with 1 Axes>"
      ]
     },
     "metadata": {},
     "output_type": "display_data"
    }
   ],
   "source": [
    "ev1,v1 =fa.get_eigenvalues()\n",
    "plt.scatter(range(1,df.shape[1]+1),ev)\n",
    "plt.plot(range(1,df.shape[1]+1),ev)\n",
    "plt.title('Scree Plot')\n",
    "plt.xlabel('Factors')\n",
    "plt.ylabel('Eigenvalue')\n",
    "plt.grid()\n",
    "plt.show()"
   ]
  },
  {
   "cell_type": "code",
   "execution_count": 25,
   "id": "40f7c34e",
   "metadata": {},
   "outputs": [
    {
     "data": {
      "image/png": "[encoded data removed]",
      "text/plain": [
       "<Figure size 640x480 with 1 Axes>"
      ]
     },
     "metadata": {},
     "output_type": "display_data"
    }
   ],
   "source": [
    "plt.scatter(range(1,df.shape[1]+1),ev1)\n",
    "plt.plot(range(1,df.shape[1]+1),ev1)\n",
    "plt.title('Scree Plot')\n",
    "plt.xlabel('Factors')\n",
    "plt.ylabel('Eigenvalue')\n",
    "plt.grid()\n",
    "plt.show()"
   ]
  },
  {
   "cell_type": "code",
   "execution_count": 26,
   "id": "3469aee8",
   "metadata": {},
   "outputs": [
    {
     "data": {
      "text/plain": [
       "(array([3.40891899, 1.7187883 , 1.01921216]),\n",
       " array([0.37876878, 0.19097648, 0.1132458 ]),\n",
       " array([0.37876878, 0.56974525, 0.68299105]))"
      ]
     },
     "execution_count": 26,
     "metadata": {},
     "output_type": "execute_result"
    }
   ],
   "source": [
    "fa.get_factor_variance()"
   ]
  },
  {
   "cell_type": "code",
   "execution_count": 27,
   "id": "f991538f",
   "metadata": {},
   "outputs": [
    {
     "data": {
      "text/plain": [
       "array([0.76726294, 0.85610194, 0.65057944, 0.55106467, 0.37293034,\n",
       "       0.8863031 , 0.60547274, 0.92711798, 0.5300863 ])"
      ]
     },
     "execution_count": 27,
     "metadata": {},
     "output_type": "execute_result"
    }
   ],
   "source": [
    "fa.get_communalities()"
   ]
  },
  {
   "cell_type": "code",
   "execution_count": 28,
   "id": "8e40a00c",
   "metadata": {},
   "outputs": [
    {
     "data": {
      "text/plain": [
       "array([0.23273706, 0.14389806, 0.34942056, 0.44893533, 0.62706966,\n",
       "       0.1136969 , 0.39452726, 0.07288202, 0.4699137 ])"
      ]
     },
     "execution_count": 28,
     "metadata": {},
     "output_type": "execute_result"
    }
   ],
   "source": [
    "fa.get_uniquenesses()"
   ]
  },
  {
   "cell_type": "code",
   "execution_count": null,
   "id": "a59fa900",
   "metadata": {},
   "outputs": [],
   "source": []
  }
 ],
 "metadata": {
  "kernelspec": {
   "display_name": "Python 3 (ipykernel)",
   "language": "python",
   "name": "python3"
  },
  "language_info": {
   "codemirror_mode": {
    "name": "ipython",
    "version": 3
   },
   "file_extension": ".py",
   "mimetype": "text/x-python",
   "name": "python",
   "nbconvert_exporter": "python",
   "pygments_lexer": "ipython3",
   "version": "3.9.13"
  }
 },
 "nbformat": 4,
 "nbformat_minor": 5
}
